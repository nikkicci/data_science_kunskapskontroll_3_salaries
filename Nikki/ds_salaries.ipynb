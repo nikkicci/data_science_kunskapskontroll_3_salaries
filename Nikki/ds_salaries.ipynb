{
 "cells": [
  {
   "cell_type": "code",
   "execution_count": 2,
   "metadata": {},
   "outputs": [],
   "source": [
    "import pandas as pd\n",
    "import numpy as np\n",
    "import matplotlib as plt\n",
    "import sqlite3\n",
    "import requests"
   ]
  },
  {
   "cell_type": "code",
   "execution_count": 14,
   "metadata": {},
   "outputs": [],
   "source": [
    "con = sqlite3.connect('ds_salaries.db')\n"
   ]
  },
  {
   "cell_type": "code",
   "execution_count": 15,
   "metadata": {},
   "outputs": [],
   "source": [
    "con.close()"
   ]
  },
  {
   "cell_type": "code",
   "execution_count": 4,
   "metadata": {},
   "outputs": [],
   "source": [
    "df = pd.read_csv(r'C:\\Users\\kolcz\\Documents\\data_science_kunskapskontroll_3_salaries\\ds_salaries.csv')"
   ]
  },
  {
   "cell_type": "code",
   "execution_count": 5,
   "metadata": {},
   "outputs": [
    {
     "data": {
      "text/plain": [
       "3755"
      ]
     },
     "execution_count": 5,
     "metadata": {},
     "output_type": "execute_result"
    }
   ],
   "source": [
    "df.to_sql('Salaries', con, if_exists = 'replace', index=False)"
   ]
  },
  {
   "cell_type": "code",
   "execution_count": 11,
   "metadata": {},
   "outputs": [
    {
     "name": "stdout",
     "output_type": "stream",
     "text": [
      "      work_year experience_level employment_type                 job_title  \\\n",
      "0          2023               SE              FT  Principal Data Scientist   \n",
      "1          2023               MI              CT               ML Engineer   \n",
      "2          2023               MI              CT               ML Engineer   \n",
      "3          2023               SE              FT            Data Scientist   \n",
      "4          2023               SE              FT            Data Scientist   \n",
      "...         ...              ...             ...                       ...   \n",
      "3750       2020               SE              FT            Data Scientist   \n",
      "3751       2021               MI              FT  Principal Data Scientist   \n",
      "3752       2020               EN              FT            Data Scientist   \n",
      "3753       2020               EN              CT     Business Data Analyst   \n",
      "3754       2021               SE              FT      Data Science Manager   \n",
      "\n",
      "       salary salary_currency  salary_in_usd employee_residence  remote_ratio  \\\n",
      "0       80000             EUR          85847              Spain           100   \n",
      "1       30000             USD          30000      United States           100   \n",
      "2       25500             USD          25500      United States           100   \n",
      "3      175000             USD         175000             Canada           100   \n",
      "4      120000             USD         120000             Canada           100   \n",
      "...       ...             ...            ...                ...           ...   \n",
      "3750   412000             USD         412000      United States           100   \n",
      "3751   151000             USD         151000      United States           100   \n",
      "3752   105000             USD         105000      United States           100   \n",
      "3753   100000             USD         100000      United States           100   \n",
      "3754  7000000             INR          94665              India            50   \n",
      "\n",
      "     company_location company_size  \n",
      "0                  ES            L  \n",
      "1                  US            S  \n",
      "2                  US            S  \n",
      "3                  CA            M  \n",
      "4                  CA            M  \n",
      "...               ...          ...  \n",
      "3750               US            L  \n",
      "3751               US            L  \n",
      "3752               US            S  \n",
      "3753               US            L  \n",
      "3754               IN            L  \n",
      "\n",
      "[3755 rows x 11 columns]\n"
     ]
    }
   ],
   "source": [
    "print(df)"
   ]
  },
  {
   "cell_type": "code",
   "execution_count": 6,
   "metadata": {},
   "outputs": [],
   "source": [
    "quuery = '''\n",
    "SELECT * \n",
    "FROM ds_salaries.csv;\n",
    "'''"
   ]
  },
  {
   "cell_type": "code",
   "execution_count": 20,
   "metadata": {},
   "outputs": [
    {
     "name": "stdout",
     "output_type": "stream",
     "text": [
      "c:\\Users\\kolcz\\Documents\\data_science_kunskapskontroll_3_salaries\n"
     ]
    }
   ],
   "source": [
    "import os\n",
    "print(os.getcwd())"
   ]
  },
  {
   "cell_type": "code",
   "execution_count": 10,
   "metadata": {},
   "outputs": [
    {
     "name": "stdout",
     "output_type": "stream",
     "text": [
      "3755\n"
     ]
    }
   ],
   "source": [
    "df.columns\n",
    " \n",
    "df['employee_residence'] = df['employee_residence'].replace({\"ES\": \"Spain\", \"US\": \"United States\", \"CA\": \"Canada\", \"DE\": \"Germany\", \"GB\": \"Great Britain\", \"NG\": \"Nigeria\", \"IN\": \"India\", \"HK\": \"Hong Kong\", \"PT\": \"Portugal\", \"NL\": \"Netherlands\", \"CH\": \"Switzerland\", \"CF\": \"Central African Republic\", \"FI\": \"Finland\", \"UA\": \"Uruguay\", \"IE\": \"Republic of Ireland\", \"IL\": \"Israel\", \"GH\": \"Ghana\", \"AT\": \"Austria\", \"CO\":\"Colombia\", \"SG\":\"Singapore\", \"SE\": \"Sweden\", \"SI\": \"Slovenia\", \"MX\": \"Mexico\", \"UZ\": \"Uzbekistan\", \"HR\": \"Croatia\", \"PL\": \"Poland\", \"KW\": \"Kuwait\", \"VN\": \"Vietnam\", \"CY\": \"Cypern\", \"AR\": \"Argentina\", \"AM\": \"Armenia\", \"BA\": \"BosniaandHerzegovina\", \"KE\": \"Kenya\", \"GR\": \"Greece\", \"MK\": \"NorthMacedonia\", \"LV\": \"Latvia\", \"IT\": \"Italy\", \"MA\": \"Morocco\", \"LT\": \"Lithuania\", \"BE\": \"Belgium\", \"AS\": \"AmericanSamoa\", \"IR\":\"Iran\", \"HU\": \"Hungary\", \"SK\": \"Slovakia\", \"CN\": \"China\", \"CZ\": \"CzechRepublic\", \"CR\": \"CostaRica\", \"TR\": \"Turkey\", \"DK\": \"Denmark\", \"BO\": \"Bolivia\", \"PH\": \"Philippines\", \"DO\": \"DominicanRepublic\", \"EG\": \"Egypt\", \"ID\": \"Indonesia\", \"AE\": \"UnitedArabEmirates\", \"MY\": \"Malaysia\", \"JP\": \"Japan\", \"EE\": \"Estonia\", \"HN\": \"Honduras\", \"TN\": \"Tunisia\", \"IQ\": \"Iraq\", \"BG\": \"Bulgaria\", \"JE\": \"Jordanien\", \"RS\": \"Serbia\", \"NZ\": \"NewZealand\", \"MD\": \"Moldova\", \"LU\": \"Luxenbourg\", \"MT\": \"Malta\"})\n",
    " \n",
    "new_df = df.to_sql(\"ds_salaries.csv\", con, if_exists=\"replace\")\n",
    " \n",
    "print(new_df)"
   ]
  },
  {
   "cell_type": "code",
   "execution_count": 12,
   "metadata": {},
   "outputs": [
    {
     "name": "stdout",
     "output_type": "stream",
     "text": [
      "3755\n"
     ]
    }
   ],
   "source": [
    "print(new_df)"
   ]
  }
 ],
 "metadata": {
  "kernelspec": {
   "display_name": ".venv",
   "language": "python",
   "name": "python3"
  },
  "language_info": {
   "codemirror_mode": {
    "name": "ipython",
    "version": 3
   },
   "file_extension": ".py",
   "mimetype": "text/x-python",
   "name": "python",
   "nbconvert_exporter": "python",
   "pygments_lexer": "ipython3",
   "version": "3.13.1"
  }
 },
 "nbformat": 4,
 "nbformat_minor": 2
}
